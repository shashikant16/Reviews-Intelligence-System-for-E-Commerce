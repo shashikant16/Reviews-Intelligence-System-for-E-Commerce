{
 "cells": [
  {
   "cell_type": "code",
   "execution_count": 1,
   "metadata": {},
   "outputs": [],
   "source": [
    "import pandas as pd\n",
    "import math\n",
    "import itertools\n",
    "from nltk.stem import PorterStemmer \n",
    "from nltk.tokenize import word_tokenize ,sent_tokenize\n",
    "import nltk\n",
    "from nltk.corpus import stopwords\n",
    "from nltk.stem.porter import PorterStemmer\n",
    "from nltk.tokenize import RegexpTokenizer\n",
    "from nltk.stem.wordnet import WordNetLemmatizer\n",
    "from nltk.corpus import wordnet\n",
    "import re"
   ]
  },
  {
   "cell_type": "markdown",
   "metadata": {},
   "source": [
    "## Reading Noun Phrases File"
   ]
  },
  {
   "cell_type": "code",
   "execution_count": 2,
   "metadata": {},
   "outputs": [],
   "source": [
    "search_space=[]\n",
    "for line in open(r'E:\\Projects\\NLP_Decathlon\\Pipeline_Code\\Noun_Phrases.txt','r', encoding=\"cp1252\").readlines():\n",
    "    search_space.append(line.strip())"
   ]
  },
  {
   "cell_type": "code",
   "execution_count": 3,
   "metadata": {},
   "outputs": [
    {
     "data": {
      "text/plain": [
       "142533"
      ]
     },
     "execution_count": 3,
     "metadata": {},
     "output_type": "execute_result"
    }
   ],
   "source": [
    "len(search_space)"
   ]
  },
  {
   "cell_type": "code",
   "execution_count": 4,
   "metadata": {},
   "outputs": [],
   "source": [
    "def search_queries(word):\n",
    "        ps = PorterStemmer() \n",
    "        stemmed_word=  ps.stem(word)\n",
    "        length = len(stemmed_word)\n",
    "        sixty_of_length  = math.ceil(length*0.6)\n",
    "        letter   = stemmed_word[:sixty_of_length]\n",
    "        if len(letter)>2:\n",
    "                variation = letter\n",
    "        else:\n",
    "            variation=word\n",
    "        synonyms=[]\n",
    "        antonyms=[]\n",
    "        for syn in wordnet.synsets(word):\n",
    "            for l in syn.lemmas():\n",
    "                synonyms.append(l.name())\n",
    "                if l.antonyms():\n",
    "                    antonyms.append(l.antonyms()[0].name())\n",
    "        synonyms = synonyms+antonyms\n",
    "        synonyms= list(set(synonyms))\n",
    "        synonyms.append(variation)\n",
    "        return synonyms"
   ]
  },
  {
   "cell_type": "code",
   "execution_count": 5,
   "metadata": {},
   "outputs": [],
   "source": [
    "def finding_related_phrases(search_query_list,search_space_list,word):\n",
    "        keywords_and_keyphrases={}\n",
    "        searched_=[]\n",
    "        newlist=[]\n",
    "        keyword_related_phrases=[]\n",
    "        for entity in search_query_list:\n",
    "            r = re.compile(r'([a-zA-Z\\s]*'+entity+')'or'('+entity+'[a-zA-Z\\s]*)')\n",
    "            newlist = list(filter(r.match, search_space_list)) \n",
    "            if len(newlist)>0:\n",
    "                searched_.append(newlist)\n",
    "        keyword_related_phrases = list(itertools.chain.from_iterable(searched_))\n",
    "        keywords_and_keyphrases[word] = keyword_related_phrases\n",
    "        return keywords_and_keyphrases"
   ]
  },
  {
   "cell_type": "code",
   "execution_count": 6,
   "metadata": {},
   "outputs": [],
   "source": [
    "def keyword_and_related_phrases(word):\n",
    "    search_query_list = search_queries(word)\n",
    "    keywords_and_keyphrases = finding_related_phrases(search_query_list,search_space,word)     \n",
    "    return keywords_and_keyphrases"
   ]
  },
  {
   "cell_type": "code",
   "execution_count": null,
   "metadata": {},
   "outputs": [],
   "source": []
  },
  {
   "cell_type": "code",
   "execution_count": null,
   "metadata": {},
   "outputs": [],
   "source": []
  },
  {
   "cell_type": "code",
   "execution_count": null,
   "metadata": {},
   "outputs": [],
   "source": []
  }
 ],
 "metadata": {
  "kernelspec": {
   "display_name": "Python 3",
   "language": "python",
   "name": "python3"
  },
  "language_info": {
   "codemirror_mode": {
    "name": "ipython",
    "version": 3
   },
   "file_extension": ".py",
   "mimetype": "text/x-python",
   "name": "python",
   "nbconvert_exporter": "python",
   "pygments_lexer": "ipython3",
   "version": "3.7.4"
  }
 },
 "nbformat": 4,
 "nbformat_minor": 2
}
